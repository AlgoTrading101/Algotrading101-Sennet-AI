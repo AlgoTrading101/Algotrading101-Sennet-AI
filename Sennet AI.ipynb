{
 "cells": [
  {
   "cell_type": "code",
   "execution_count": null,
   "id": "0c314545",
   "metadata": {},
   "outputs": [],
   "source": [
    "import requests\n",
    "\n",
    "stock_data = requests.get('https://sennetai.com/api/stocks/market-data/AAPL/',\n",
    "                          headers = {\"Authorization\":\"Token \"}\n",
    "                         ).json()\n",
    "\n",
    "stock_data"
   ]
  },
  {
   "cell_type": "code",
   "execution_count": null,
   "id": "d8dfe380",
   "metadata": {},
   "outputs": [],
   "source": [
    "headers = {\"Authorization\":\"Token \"}"
   ]
  },
  {
   "cell_type": "code",
   "execution_count": null,
   "id": "25311085",
   "metadata": {},
   "outputs": [],
   "source": [
    "stock_prices = requests.get('https://sennetai.com/api/stocks/prices/today/AAPL/',\n",
    "                          headers = headers).json()\n",
    "\n",
    "stock_prices"
   ]
  },
  {
   "cell_type": "code",
   "execution_count": null,
   "id": "641d4198",
   "metadata": {},
   "outputs": [],
   "source": [
    "crypto_data = requests.get('https://sennetai.com/api/crypto/market-data/ETH/',\n",
    "                          headers = headers).json()\n",
    "crypto_data"
   ]
  },
  {
   "cell_type": "code",
   "execution_count": null,
   "id": "caa48de6",
   "metadata": {},
   "outputs": [],
   "source": [
    "crypto_prices = requests.get('https://sennetai.com/api/crypto/prices/today/ETH/',\n",
    "                          headers = headers).json()\n",
    "crypto_prices"
   ]
  },
  {
   "cell_type": "code",
   "execution_count": null,
   "id": "306ef315",
   "metadata": {
    "scrolled": true
   },
   "outputs": [],
   "source": [
    "sentiment = requests.get('https://sennetai.com/api/crypto/social-sentiment/ADA/',\n",
    "                          headers = headers).json()\n",
    "sentiment"
   ]
  },
  {
   "cell_type": "code",
   "execution_count": null,
   "id": "51c3c987",
   "metadata": {},
   "outputs": [],
   "source": [
    "sentiment_countries = requests.get('https://sennetai.com/api/crypto/trends/volume-by-country/XRP/',\n",
    "                          headers = headers).json()\n",
    "\n",
    "sentiment_countries"
   ]
  },
  {
   "cell_type": "code",
   "execution_count": null,
   "id": "c0159c4f",
   "metadata": {},
   "outputs": [],
   "source": [
    "news = requests.get('https://sennetai.com/api/crypto/news/ADA/',\n",
    "                          headers = headers).json()\n",
    "\n",
    "news"
   ]
  },
  {
   "cell_type": "code",
   "execution_count": null,
   "id": "2552bf2b",
   "metadata": {},
   "outputs": [],
   "source": [
    "insiders = requests.get('https://sennetai.com/api/insiders/',\n",
    "                          headers = headers).json()\n",
    "\n",
    "insiders"
   ]
  },
  {
   "cell_type": "code",
   "execution_count": null,
   "id": "5c437670",
   "metadata": {},
   "outputs": [],
   "source": [
    "reports = requests.get('https://sennetai.com/api/company-filings/latest/',\n",
    "                          headers = headers)#.json()\n",
    "\n",
    "reports"
   ]
  },
  {
   "cell_type": "code",
   "execution_count": null,
   "id": "fd4be5f7",
   "metadata": {},
   "outputs": [],
   "source": [
    "investors = requests.get('https://sennetai.com/api/super-investors/today/',\n",
    "                          headers = headers).json()\n",
    "\n",
    "investors"
   ]
  }
 ],
 "metadata": {
  "kernelspec": {
   "display_name": "Python 3",
   "language": "python",
   "name": "python3"
  },
  "language_info": {
   "codemirror_mode": {
    "name": "ipython",
    "version": 3
   },
   "file_extension": ".py",
   "mimetype": "text/x-python",
   "name": "python",
   "nbconvert_exporter": "python",
   "pygments_lexer": "ipython3",
   "version": "3.8.8"
  }
 },
 "nbformat": 4,
 "nbformat_minor": 5
}
